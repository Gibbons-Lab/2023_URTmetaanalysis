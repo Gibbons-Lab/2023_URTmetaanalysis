{
 "cells": [
  {
   "cell_type": "markdown",
   "id": "dff867d4-5b30-4baa-989c-e0489440c6b0",
   "metadata": {},
   "source": [
    "# Covariate Analysis \n",
    "\n",
    "In this notebook we'll use the output of our QIIME2 workflow to investigate differences in URT composition between covariates of geographic region, age and sex"
   ]
  },
  {
   "cell_type": "code",
   "execution_count": null,
   "id": "8fd34737-2d31-45fb-b183-c67c59973cdc",
   "metadata": {
    "tags": []
   },
   "outputs": [],
   "source": [
    "from utils import #\n",
    "import pandas as pd\n",
    "import qiime2 as q2\n",
    "import biom\n",
    "from plotnine import *\n",
    "import skbio\n",
    "import scipy.stats\n",
    "import seaborn as sns\n",
    "import numpy as np\n",
    "import statsmodels.formula.api as smf\n",
    "import statsmodels.api as sm\n",
    "from statsmodels.stats.multitest import fdrcorrection\n",
    "import os\n",
    "import matplotlib.pyplot as plt\n",
    "from matplotlib.font_manager import FontProperties\n",
    "\n",
    "\n",
    "%matplotlib inline"
   ]
  },
  {
   "cell_type": "markdown",
   "id": "a8ac257d-81b4-497a-81ad-7fd731d73c15",
   "metadata": {},
   "source": [
    "## Build Dataframe\n",
    "First we'll build a dataframe of all reads in the meta-analysis pertaining to healthy samples"
   ]
  },
  {
   "cell_type": "code",
   "execution_count": null,
   "id": "ea392f6a-97c8-42c1-b89b-0aa185e33444",
   "metadata": {
    "tags": []
   },
   "outputs": [],
   "source": [
    "collapse_on=[\"kingdom\", \"phylum\", \"class\", \"order\", \"family\", \"genus\"]\n",
    "os.chdir('/proj/gibbons/nbohmann/metabug/manifest/NP/')\n",
    "manifest_NP = pd.read_csv('NP_manifest.csv',index_col= 0, header = None)\n",
    "res = pd.DataFrame()\n",
    "for file_name in manifest_NP.index:\n",
    "    #pull out feature tables with total reads\n",
    "    ab = qiime_to_dataframe(feature_table=\"qiime/\"+file_name+\"_table.qza\",\n",
    "                        taxonomy=\"qiime/\"+file_name+\"_taxonomy.qza\", \n",
    "                        collapse_on=collapse_on) \n",
    "    #merge with metadata\n",
    "    meta = pd.read_csv('metadata/'+file_name+'_metadata.tsv', sep=\"\\t\")\n",
    "    meta.rename(columns={meta.columns[0]: \"sample_id\"}, inplace=True)\n",
    "    ab = pd.merge(ab, meta, on=\"sample_id\")\n",
    "    ab['URT'] = 'NP'\n",
    "    ab['Study'] = file_name\n",
    "    #concatenate dataframes together\n",
    "    res = pd.concat([res,ab])\n",
    "os.chdir('/proj/gibbons/nbohmann/metabug/manifest/OP/')\n",
    "manifest_OP = pd.read_csv('OP_manifest.csv',index_col= 0, header = None)\n",
    "for file_name in manifest_OP.index:\n",
    "    #pull out feature tables with total reads\n",
    "    ab = qiime_to_dataframe(feature_table=\"qiime/\"+file_name+\"_table.qza\",\n",
    "                        taxonomy=\"qiime/\"+file_name+\"_taxonomy.qza\", \n",
    "                        collapse_on=collapse_on) \n",
    "    #merge with metadata\n",
    "    meta = pd.read_csv('metadata/'+file_name+'_metadata.tsv', sep=\"\\t\")\n",
    "    meta.rename(columns={meta.columns[0]: \"sample_id\"}, inplace=True)\n",
    "    ab = pd.merge(ab, meta, on=\"sample_id\")\n",
    "    ab['URT'] = 'OP'\n",
    "    ab['Study'] = file_name\n",
    "    #concatenate dataframes together\n",
    "    res = pd.concat([res,ab])\n",
    "res = res.dropna(subset = ['genus']) #filter data \n",
    "res = res[res.condition == 'control'] #filter to just controls\n",
    "res = res[~(res.genus.str.contains('None'))&~(res.genus.str.contains('uncultured'))&~(res.genus.str.contains('Chloroplast'))]\n",
    "res_sex = res[~pd.isnull(res.sex)] #res_sex has all samples with sex metadata\n",
    "res_sex = clr(filter_taxa(res_sex, min_reads=2, min_prevalence=0.05)) #center-log-ratio transformation and filtering\n",
    "res_age = res[~pd.isnull(res.age)] #res_age has all samples with age metadata\n",
    "res_age = clr(filter_taxa(res_age, min_reads=2, min_prevalence=0.05)) #center-log-ratio transformation and filtering\n",
    "res_metadata = res[~(pd.isnull(res.age))&~pd.isnull(res.sex)]\n",
    "res_metadata = clr(filter_taxa(res_metadata,min_reads = 2, min_prevalence = 0.5))\n",
    "res = clr(filter_taxa(res, min_reads=2, min_prevalence=0.5)) #center-log-ratio transformation and filtering"
   ]
  },
  {
   "cell_type": "markdown",
   "id": "6949d04d-c9fa-4b83-9513-bcb31acda5bf",
   "metadata": {},
   "source": [
    "## Geographic location\n",
    "For location, we'll run a Kruskal-Wallis to look for taxa significantly enriched between locations"
   ]
  },
  {
   "cell_type": "code",
   "execution_count": null,
   "id": "731dc06e-86fd-4d3b-9858-b804e38c3d64",
   "metadata": {
    "tags": []
   },
   "outputs": [],
   "source": [
    "collapse_on=[\"kingdom\", \"phylum\", \"class\", \"order\", \"family\", \"genus\"]\n",
    "collapsed = res.groupby(collapse_on)\n",
    "results = kwtests(collapsed,'region')\n",
    "for_plots = res[res['genus'].isin(results[results['q']<0.05]['taxon'])].groupby(\n",
    "    [\"kingdom\", \"phylum\", \"class\", \"order\", \"family\",\"genus\",\"region\"]).mean().reset_index()\n",
    "to_drop = for_plots.groupby(collapse_on)['relative'].mean()[for_plots.\n",
    "            groupby(collapse_on)['relative'].mean()<0.01].reset_index()['genus']\n",
    "for_plots = for_plots[~for_plots['genus'].isin(to_drop)]\n",
    "for_plots.genus = for_plots.genus.str.split('_').str[0]\n",
    "for_plots.genus = for_plots.genus.str.split('-').str[0]\n",
    "for_plots = pd.pivot_table(for_plots, index = 'genus', columns = 'region', values = 'clr').fillna(0.0)\n",
    "for_plots"
   ]
  },
  {
   "cell_type": "markdown",
   "id": "27260b30-c23d-44d9-9c94-7135dc50afdf",
   "metadata": {},
   "source": [
    "## Run Post-Hocs"
   ]
  },
  {
   "cell_type": "code",
   "execution_count": null,
   "id": "119be8f5-b248-4e6c-a4c4-31ec595881ac",
   "metadata": {
    "tags": []
   },
   "outputs": [],
   "source": [
    "import scikit_posthocs\n",
    "result = pd.DataFrame()\n",
    "for genus in res['genus'].unique():\n",
    "    dunn = scikit_posthocs.posthoc_dunn(res[res['genus']==genus], val_col = 'clr', group_col = 'region')\n",
    "    indices, columns = np.where(dunn.lt(0.05))\n",
    "    pairs = list(zip(indices,columns))\n",
    "    pairs_labels = pd.DataFrame([(dunn.index[i], dunn.columns[j]) for i,j in pairs])\n",
    "    pairs_labels['taxon'] = genus\n",
    "    result = pd.concat([result,pairs_labels])"
   ]
  },
  {
   "cell_type": "markdown",
   "id": "5c1aee40-2db2-4785-99ad-4b842dfe378a",
   "metadata": {},
   "source": [
    "## Visualize Results"
   ]
  },
  {
   "cell_type": "code",
   "execution_count": null,
   "id": "40a18254-cbeb-4e58-90ac-8a5dee8d059d",
   "metadata": {
    "tags": []
   },
   "outputs": [],
   "source": [
    "fig, ax = plt.subplots(nrows=1,\n",
    "                               figsize=(14, 7))\n",
    "\n",
    "sns.set(font_scale=1)\n",
    "sns.heatmap(for_plots.T,\n",
    "                    cmap=sns.diverging_palette(240,20,center='light',as_cmap=True),\n",
    "                    ax = ax\n",
    "                    )\n",
    "\n",
    "font_props = FontProperties().copy()\n",
    "font_props.set_size(15)\n",
    "\n",
    "ax.set_yticklabels(ax.get_ymajorticklabels(), fontproperties=font_props)\n",
    "font_props.set_style(\"italic\")\n",
    "ax.set_xticklabels(ax.get_xmajorticklabels(), fontproperties=font_props)\n",
    "\n",
    "\n",
    "plt.yticks(rotation=0)\n",
    "plt.tight_layout()\n"
   ]
  },
  {
   "cell_type": "markdown",
   "id": "6d15ecae-7712-4bda-b537-09f3b9147a21",
   "metadata": {},
   "source": [
    "## Age \n",
    "\n",
    "For age, we will use regression analysis to find associations, correcting for URT sampling site and geographic region"
   ]
  },
  {
   "cell_type": "code",
   "execution_count": null,
   "id": "a81c671f-595d-4c0e-9c67-43a262a14901",
   "metadata": {},
   "outputs": [],
   "source": [
    "results_age = pd.DataFrame()\n",
    "res_age['age2'] = np.square(res_age['age'])\n",
    "for taxon in res_age['genus'].unique():\n",
    "    temp = res_age[res_age['genus'].str.startswith(taxon)]\n",
    "    if min(temp.region.value_counts())<5: \n",
    "        temp = temp[~temp.region.str.contains(temp.region.value_counts()[temp.region.value_counts()<5].index[0])]\n",
    "    md = smf.ols(\"clr ~ age + age2 + URT + region\",temp)\n",
    "    mdf = md.fit()\n",
    "    pval = mdf.pvalues['age']\n",
    "    pval2 = mdf.pvalues['age2']\n",
    "    results_age = pd.concat([results_age, pd.DataFrame({'genus':[taxon],'p':[pval], 'p2':[pval2]})])\n",
    "results_age = results_age.dropna(subset = ['p', 'p2'])\n",
    "results_age['q']= fdrcorrection(results_age['p'])[1]\n",
    "results_age['q2']= fdrcorrection(results_age['p2'])[1]\n",
    "results_age[(results_age['q']<0.05)|(results_age['q2']<0.05)].sort_values(by = 'q2')\n",
    "results_age['genus'] = results_age['genus'].str.split('_').str[0]\n",
    "results_age"
   ]
  },
  {
   "cell_type": "markdown",
   "id": "b78ec941-ab3f-44ee-9857-f280aa59e455",
   "metadata": {},
   "source": [
    "## Break into quantiles\n",
    "We will break the data into age quantiles for visualization"
   ]
  },
  {
   "cell_type": "code",
   "execution_count": null,
   "id": "9bf9142d-e27f-470a-8def-7d2854d873c1",
   "metadata": {
    "tags": []
   },
   "outputs": [],
   "source": [
    "res_age['quantile'] = pd.qcut(res_age['age'], [0,.2,.4,.6,.8,1.0], labels = ['0-1','1-4','4-7','7-26','26-86'])\n",
    "for_plots = res_age[res_age['genus'].isin(results_age[results_age['q']<0.05]['genus'])].groupby(\n",
    "    [\"kingdom\", \"phylum\", \"class\", \"order\", \"family\",\"genus\", \"quantile\"]).mean().reset_index()\n",
    "for_plots = for_plots.groupby(['genus','quantile'])['clr'].mean().reset_index()\n",
    "for_plots = pd.pivot(for_plots, index = 'genus', columns = 'quantile', values = 'clr')"
   ]
  },
  {
   "cell_type": "markdown",
   "id": "a0f27c16-95f8-4d7d-90e6-e1166303fe4b",
   "metadata": {},
   "source": [
    "## Visualize Results"
   ]
  },
  {
   "cell_type": "code",
   "execution_count": null,
   "id": "6f92b456-ce57-4987-8dc5-51ec3c7e4ac1",
   "metadata": {
    "tags": []
   },
   "outputs": [],
   "source": [
    "fig, ax = plt.subplots(nrows=1,\n",
    "                               figsize=(14, 7))\n",
    "\n",
    "sns.set(font_scale=1)\n",
    "sns.heatmap(for_plots.T,\n",
    "                    cmap=sns.diverging_palette(240,20,center='light',as_cmap=True),\n",
    "                    ax = ax\n",
    "                    )\n",
    "\n",
    "font_props = FontProperties().copy()\n",
    "font_props.set_size(15)\n",
    "\n",
    "ax.set_yticklabels(ax.get_ymajorticklabels(), fontproperties=font_props)\n",
    "font_props.set_style(\"italic\")\n",
    "ax.set_xticklabels(ax.get_xmajorticklabels(), fontproperties=font_props)\n",
    "\n",
    "\n",
    "plt.yticks(rotation=0)\n",
    "plt.tight_layout()"
   ]
  },
  {
   "cell_type": "markdown",
   "id": "4ded246a-8a2c-4861-8c9d-686b84e4c7bb",
   "metadata": {},
   "source": [
    "## Sex\n",
    "We will do the same regression analysis with sex as a covariate"
   ]
  },
  {
   "cell_type": "code",
   "execution_count": null,
   "id": "0f9c6229-5f69-4390-a204-f56cf303b07a",
   "metadata": {},
   "outputs": [],
   "source": [
    "results_sex = pd.DataFrame()\n",
    "for taxon in res_sex['genus'].unique():\n",
    "    temp = res_sex[res_sex['genus'].str.startswith(taxon)]\n",
    "    if min(temp.region.value_counts())<5: \n",
    "        temp = temp[~temp.region.str.contains(temp.region.value_counts()[temp.region.value_counts()<5].index[0])]\n",
    "    md = smf.ols(\"clr ~ sex + URT + region\",temp)\n",
    "    mdf = md.fit()\n",
    "    pval = mdf.pvalues['sex[T.M]']\n",
    "    results_sex = pd.concat([results_sex, pd.DataFrame({'genus':[taxon],'p':[pval]})])\n",
    "results_sex = results_sex.dropna(subset = ['p'])\n",
    "results_sex['q']= fdrcorrection(results_sex['p'])[1]\n",
    "results_sex[(results_sex['q']<0.05)]\n",
    "results_sex['genus'] = results_sex['genus'].str.split('_').str[0]\n",
    "results_sex.sort_values(by = 'q')"
   ]
  },
  {
   "cell_type": "markdown",
   "id": "8d935334-0406-4d40-be9b-275421afcb41",
   "metadata": {},
   "source": [
    "No significant results were seen"
   ]
  }
 ],
 "metadata": {
  "kernelspec": {
   "display_name": "Python 3 (ipykernel)",
   "language": "python",
   "name": "python3"
  },
  "language_info": {
   "codemirror_mode": {
    "name": "ipython",
    "version": 3
   },
   "file_extension": ".py",
   "mimetype": "text/x-python",
   "name": "python",
   "nbconvert_exporter": "python",
   "pygments_lexer": "ipython3",
   "version": "3.8.13"
  }
 },
 "nbformat": 4,
 "nbformat_minor": 5
}
