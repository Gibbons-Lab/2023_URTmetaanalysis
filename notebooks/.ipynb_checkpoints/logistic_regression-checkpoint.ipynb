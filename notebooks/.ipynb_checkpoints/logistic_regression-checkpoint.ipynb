{
 "cells": [
  {
   "cell_type": "markdown",
   "id": "6b382fd4-2c65-4cb2-8db5-12c562def5be",
   "metadata": {},
   "source": [
    "# Logisitc Regression \n",
    "\n",
    "In this notebook we'll use the output of our QIIME2 workflow to investigate differences in URT composition between cases and controls using logisitic regression "
   ]
  },
  {
   "cell_type": "code",
   "execution_count": null,
   "id": "325703b8-6fc4-48f8-977a-ba23e3ca2458",
   "metadata": {},
   "outputs": [],
   "source": [
    "import pandas as pd\n",
    "import os\n",
    "import statsmodels.formula.api as smf\n",
    "import seaborn as sns\n",
    "import statsmodels as sm\n",
    "import matplotlib.pyplot as plt\n",
    "from utils import *\n",
    "from matplotlib.font_manager import FontProperties\n",
    "\n",
    "\n",
    "%matplotlib inline"
   ]
  },
  {
   "cell_type": "markdown",
   "id": "1d27f8a1-4a75-4a28-b7e1-b6ca8f166e72",
   "metadata": {},
   "source": [
    "## Build Dataframe\n",
    "First we'll build a dataframe of all reads in the meta-analysis"
   ]
  },
  {
   "cell_type": "code",
   "execution_count": null,
   "id": "2d867dda-60d8-48dc-a325-31d14fcba16d",
   "metadata": {
    "tags": []
   },
   "outputs": [],
   "source": [
    "collapse_on=[\"kingdom\", \"phylum\", \"class\", \"order\", \"family\", \"genus\"]\n",
    "disease = pd.read_csv('/proj/gibbons/nbohmann/metabug/conditions.csv',index_col = 0,header = None)[1].to_dict()\n",
    "os.chdir('/proj/gibbons/nbohmann/metabug/manifest/NP/')\n",
    "manifest_NP = pd.read_csv('NP_manifest.csv',index_col= 0, header = None)\n",
    "res = pd.DataFrame()\n",
    "for file_name in manifest_NP.index:\n",
    "    #pull out feature tables with total reads\n",
    "    ab = qiime_to_dataframe(feature_table=\"qiime/\"+file_name+\"_table.qza\",\n",
    "                        taxonomy=\"qiime/\"+file_name+\"_taxonomy.qza\", \n",
    "                        collapse_on=collapse_on) \n",
    "    #merge with metadata\n",
    "    meta = pd.read_csv('metadata/'+file_name+'_metadata.tsv', sep=\"\\t\")\n",
    "    meta.rename(columns={meta.columns[0]: \"sample_id\"}, inplace=True)\n",
    "    ab = pd.merge(ab, meta, on=\"sample_id\")\n",
    "    ab['URT'] = 'NP'\n",
    "    ab['Study'] = file_name\n",
    "    #concatenate dataframes together\n",
    "    res = pd.concat([res,ab])\n",
    "os.chdir('/proj/gibbons/nbohmann/metabug/manifest/OP/')\n",
    "manifest_OP = pd.read_csv('OP_manifest.csv',index_col= 0, header = None)\n",
    "for file_name in manifest_OP.index:\n",
    "    #pull out feature tables with total reads\n",
    "    ab = qiime_to_dataframe(feature_table=\"qiime/\"+file_name+\"_table.qza\",\n",
    "                        taxonomy=\"qiime/\"+file_name+\"_taxonomy.qza\", \n",
    "                        collapse_on=collapse_on) \n",
    "    #merge with metadata\n",
    "    meta = pd.read_csv('metadata/'+file_name+'_metadata.tsv', sep=\"\\t\")\n",
    "    meta.rename(columns={meta.columns[0]: \"sample_id\"}, inplace=True)\n",
    "    ab = pd.merge(ab, meta, on=\"sample_id\")\n",
    "    ab['URT'] = 'OP'\n",
    "    ab['Study'] = file_name\n",
    "    #concatenate dataframes together\n",
    "    res = pd.concat([res,ab])\n",
    "res = res.dropna(subset = ['genus']) #filter data \n",
    "res = res[~(res.genus.str.contains('None'))&~(res.genus.str.contains('uncultured'))&~(res.genus.str.contains('Chloroplast'))]\n",
    "res = clr(filter_taxa(res, min_reads=2, min_prevalence=0.5)) #center-log-ratio transformation and filtering\n",
    "res['disease'] = res['Study'].map(disease)\n",
    "res['log10'] = np.log10(res['reads'])\n",
    "res['Study'] = res['Study'].str.replace('PRJEB15534','PRJEB22676')"
   ]
  },
  {
   "cell_type": "markdown",
   "id": "a01ce14b-8cf6-4ba3-bf03-e0a57adb6428",
   "metadata": {},
   "source": [
    "## Visualize Reads\n",
    "Now visualize the total reads, encoding by study and geographic location"
   ]
  },
  {
   "cell_type": "code",
   "execution_count": null,
   "id": "bd5fd882-2045-4291-b3b5-4b36fbefef73",
   "metadata": {
    "tags": []
   },
   "outputs": [],
   "source": [
    "res_grouped = res.groupby(['sample_id','Study','disease']).mean().reset_index()\n",
    "res_grouped = res_grouped.sort_values(by = 'disease')\n",
    "yscale = res_grouped['Study'].unique()\n",
    "fillscale = res_grouped['disease'].unique()[::-1]\n",
    "sample_plot = (ggplot(\n",
    "    res_grouped, aes(x = 'Study',fill = 'disease'))\n",
    "    +geom_histogram(bins = 26)\n",
    "    +scale_x_discrete(limits = yscale)\n",
    "    +scale_fill_discrete(limits = fillscale)\n",
    "    +coord_flip()\n",
    "    +theme(text = element_text(size=20),panel_background=element_rect(fill = \"white\",\n",
    "                                colour = \"white\",size = 0.5, linetype = \"solid\"),\n",
    "                                panel_grid=element_line(size = .2, linetype = \"solid\",colour = \"gray\"),\n",
    "                                axis_line = element_line(size = 2, linetype = \"solid\",colour = \"black\"),\n",
    "                                legend_title=element_blank(),\n",
    "                                legend_position='right',\n",
    "                                figure_size=(16, 12))\n",
    "              )\n",
    "sample_plot"
   ]
  },
  {
   "cell_type": "markdown",
   "id": "097d38de-7858-4f5a-94fa-9d5cd1666164",
   "metadata": {},
   "source": [
    "## Calculate Overall Enrichments\n",
    "Using logistic regression, determine taxa that are enriched in cases or controls irrespective of disease type"
   ]
  },
  {
   "cell_type": "code",
   "execution_count": null,
   "id": "dd07414d-1ae2-4866-99db-04356d2f6f07",
   "metadata": {},
   "outputs": [],
   "source": [
    "overall = pd.DataFrame()\n",
    "for x in res['full_taxonomy'].unique():\n",
    "    try:\n",
    "        df = res[res['full_taxonomy']==x]\n",
    "        df = df.copy()\n",
    "        df['condition_bin'] = (df['condition'] == 'control').astype(int)\n",
    "        model = smf.logit('condition_bin ~ clr + URT+ region', data = df)\n",
    "        sol = model.fit(method='bfgs', disp=0)\n",
    "        log2 = np.log2(df[df['condition']=='case']['relative'].mean()/\n",
    "                       df[df['condition']=='control']['relative'].mean())\n",
    "        overall = pd.concat([overall,\n",
    "                             pd.DataFrame({\n",
    "                                 'taxon':[x], \n",
    "                                 'pvalue':[sol.pvalues['clr']],\n",
    "                                 'log2_foldchange':[log2]})])\n",
    "    except sm.tools.sm_exceptions.PerfectSeparationError:\n",
    "            print(\"Skipping group\", x, \"due to perfect predictor error\")\n",
    "            continue\n",
    "    \n",
    "overall['q'] = sm.stats.multitest.fdrcorrection(overall['pvalue'])[1]\n",
    "overall = overall[overall['q']<0.05].sort_values(by = 'log2_foldchange')\n",
    "overall['genus'] = overall['taxon'].str.split('|').str[-1]\n",
    "overall['enrichment'] = overall['log2_foldchange']>0\n",
    "overall['enrichment'] = overall['enrichment'].map({True:1,False:-1})\n",
    "overall.set_index('genus',inplace = True)"
   ]
  },
  {
   "cell_type": "markdown",
   "id": "6549bbb9-93f0-4a64-951b-e47e5b1febc7",
   "metadata": {},
   "source": [
    "## Calculate Disease-Specific Enrichment\n",
    "Now we do the same within each disease type"
   ]
  },
  {
   "cell_type": "code",
   "execution_count": null,
   "id": "cdf4f39a-665e-4486-994a-d7bc626ffd3f",
   "metadata": {
    "tags": []
   },
   "outputs": [],
   "source": [
    "disease_specific = pd.DataFrame()\n",
    "for disease in res['disease'].unique():\n",
    "    res_sub = res[res['disease']==disease]\n",
    "    for x in res_sub['full_taxonomy'].unique():\n",
    "        try:\n",
    "            df = res_sub[res_sub['full_taxonomy']==x]\n",
    "            df = df.copy()\n",
    "            df['condition_bin'] = (df['condition'] == 'control').astype(int)\n",
    "            if df['condition_bin'].nunique()==1:\n",
    "                continue\n",
    "            model = smf.logit('condition_bin ~ clr + URT', data = df)        \n",
    "            sol = model.fit(disp=0)\n",
    "            log2 = np.log2(df[df['condition']=='case']['relative'].mean()/\n",
    "                   df[df['condition']=='control']['relative'].mean())\n",
    "            disease_specific = pd.concat([disease_specific, pd.DataFrame({\n",
    "                'taxon':[x], \n",
    "                'pvalue':[sol.pvalues['clr']], \n",
    "                'log2_foldchange':[log2], \n",
    "                'disease':disease})])\n",
    "        except sm.tools.sm_exceptions.PerfectSeparationError:\n",
    "            print(\"Skipping group\", x,\"in\", disease, \"due to perfect predictor error\")\n",
    "            continue\n",
    "disease_specific['q'] = sm.stats.multitest.fdrcorrection(disease_specific['pvalue'])[1]\n",
    "disease_specific = disease_specific[disease_specific['q']<0.05].sort_values(by = 'q')\n",
    "disease_specific['genus'] = disease_specific['taxon'].str.split('|').str[-1]\n",
    "disease_specific['enrichment'] = disease_specific['log2_foldchange']>0\n",
    "disease_specific['enrichment'] = disease_specific['enrichment'].map({True:1,False:-1})\n",
    "disease_specific = disease_specific.pivot(index = 'genus',columns = 'disease',values = 'enrichment')"
   ]
  },
  {
   "cell_type": "markdown",
   "id": "415223ce-f442-4777-a4a1-920f39ebcfac",
   "metadata": {},
   "source": [
    "## Total Enrichments\n",
    "Now concatenate the significant enrichments into a dataframe and calculate abundance "
   ]
  },
  {
   "cell_type": "code",
   "execution_count": null,
   "id": "71afdd01-3c18-4d97-b4fd-2f5d074e3183",
   "metadata": {
    "tags": []
   },
   "outputs": [],
   "source": [
    "hits = pd.concat([disease_specific, overall[['enrichment']]],axis = 1).rename(columns = {'enrichment':'Overall'})\n",
    "hits = hits.fillna(0.0)\n",
    "n = res.sample_id.nunique()\n",
    "prevalence = res[res.reads > 0].full_taxonomy.value_counts() / n\n",
    "abundance = res[res.reads > 0].groupby('full_taxonomy')['relative'].mean()\n",
    "prevalence.index = prevalence.index.str.split('|').str[-1]\n",
    "abundance.index = abundance.index.str.split('|').str[-1]\n",
    "prevalence = prevalence[prevalence.index.isin(hits.index)].to_dict()\n",
    "abundance = abundance[abundance.index.isin(hits.index)].to_dict()\n",
    "hits['prevalence'] = hits.index.map(prevalence)\n",
    "hits['abundance'] = hits.index.map(abundance)\n",
    "hits = hits.sort_values(by = 'abundance', ascending = False)\n",
    "hits"
   ]
  },
  {
   "cell_type": "markdown",
   "id": "2198aae8-5eff-4639-8f59-2f2bcefb42e3",
   "metadata": {},
   "source": [
    "## Plot results\n",
    "Plot the results of the regressions, as well as abundance"
   ]
  },
  {
   "cell_type": "code",
   "execution_count": null,
   "id": "0cbb2921-9f93-44c5-ab44-1d06dc2acbb6",
   "metadata": {
    "tags": []
   },
   "outputs": [],
   "source": [
    "fig, (ax1, ax2, ax3) = plt.subplots(nrows=3,\n",
    "                               figsize=(10, 7),\n",
    "                               gridspec_kw={'height_ratios': [8,1,3]})\n",
    "\n",
    "\n",
    "\n",
    "sns.heatmap(hits[['COPD','Influenza','Pneumonia','RSV','RTI',\n",
    "                          'Resp. Allergies','Rhinosinusitis','Tonsillitis']].T,\n",
    "                    cmap=sns.diverging_palette(220,20,center='light',as_cmap=True),\n",
    "                    cbar = False,\n",
    "                    ax = ax1)\n",
    "sns.heatmap(hits[['Overall']].T,\n",
    "                    cmap=sns.diverging_palette(220,20,center='light',as_cmap=True),\n",
    "                    cbar = False,\n",
    "                    ax = ax2)\n",
    "\n",
    "sns.barplot(x=hits.index,\n",
    "            y=hits['abundance'],\n",
    "            ax=ax3)\n",
    "\n",
    "\n",
    "font_props = FontProperties().copy()\n",
    "font_props.set_size(15)\n",
    "\n",
    "ax1.set_xticks([])\n",
    "ax1.set(xlabel=None)\n",
    "ax1.set_yticklabels(ax1.get_ymajorticklabels(), fontproperties=font_props)\n",
    "\n",
    "ax2.set_xticks([])\n",
    "ax2.set(xlabel=None)\n",
    "ax2.set_yticklabels(ax2.get_ymajorticklabels(), fontproperties=font_props)\n",
    "\n",
    "\n",
    "font_props.set_style(\"italic\")\n",
    "ax3.set_ylabel('Relative \\n Abundance', fontsize = 15)\n",
    "ax3.set(xlabel=None)\n",
    "plt.xticks(rotation =80)\n",
    "ax3.set_xticklabels(ax3.get_xmajorticklabels(), fontproperties=font_props)\n",
    "\n",
    "plt.show()"
   ]
  }
 ],
 "metadata": {
  "kernelspec": {
   "display_name": "Python 3 (ipykernel)",
   "language": "python",
   "name": "python3"
  },
  "language_info": {
   "codemirror_mode": {
    "name": "ipython",
    "version": 3
   },
   "file_extension": ".py",
   "mimetype": "text/x-python",
   "name": "python",
   "nbconvert_exporter": "python",
   "pygments_lexer": "ipython3",
   "version": "3.8.13"
  }
 },
 "nbformat": 4,
 "nbformat_minor": 5
}
