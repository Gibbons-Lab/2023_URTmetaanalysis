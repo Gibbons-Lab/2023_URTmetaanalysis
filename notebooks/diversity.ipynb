{
 "cells": [
  {
   "cell_type": "markdown",
   "id": "077f2846-b783-46f0-b222-be970dcee00a",
   "metadata": {},
   "source": [
    "# Diversity Analysis\n",
    "\n",
    "In this notebook we'll use the output of our QIIME2 workflow to investigate alpha and beta diversity of samples in the meta-analysis. "
   ]
  },
  {
   "cell_type": "code",
   "execution_count": null,
   "id": "b51ff4f2-f272-4094-8c70-73bd1f501d0d",
   "metadata": {
    "tags": []
   },
   "outputs": [],
   "source": [
    "from utils import *\n",
    "import pandas as pd\n",
    "import qiime2 as q2\n",
    "from plotnine import *\n",
    "import skbio\n",
    "import scipy.stats\n",
    "import numpy as np\n",
    "import os\n",
    "\n",
    "%matplotlib inline"
   ]
  },
  {
   "cell_type": "markdown",
   "id": "b05155ad-cbdd-4368-bbed-cd517311109b",
   "metadata": {},
   "source": [
    "## Merged Table\n",
    "First, we'll need to build a QIIME2 table that combines all our samples. We could use the QIIME2 merge tool, but as we have duplicated study IDs across URT sampling sites, we'll instead build a table ourselves. "
   ]
  },
  {
   "cell_type": "code",
   "execution_count": null,
   "id": "5eca4085-b75a-4309-9299-48e17e1408f6",
   "metadata": {
    "tags": []
   },
   "outputs": [],
   "source": [
    "collapse_on=[\"kingdom\", \"phylum\", \"class\", \"order\", \"family\", \"genus\"]\n",
    "manifest_NP = pd.read_csv('/proj/gibbons/nbohmann/metabug/manifest/NP/NP_manifest.csv',index_col= 0, header = None)\n",
    "res = pd.DataFrame()\n",
    "for file_name in manifest_NP.index:\n",
    "    #pull out feature tables with total reads\n",
    "    ab = qiime_to_dataframe(feature_table=\"qiime/\"+file_name+\"_table.qza\",\n",
    "                        taxonomy=\"qiime/\"+file_name+\"_taxonomy.qza\", \n",
    "                        collapse_on=collapse_on) \n",
    "    #merge with metadata\n",
    "    meta = pd.read_csv('metadata/'+file_name+'_metadata.tsv', sep=\"\\t\")\n",
    "    meta.rename(columns={meta.columns[0]: \"sample_id\"}, inplace=True)\n",
    "    ab = pd.merge(ab, meta, on=\"sample_id\")\n",
    "    ab['URT'] = 'NP'\n",
    "    ab['study'] = file_name\n",
    "    #concatenate dataframes together\n",
    "    res = pd.concat([res,ab])\n",
    "manifest_OP = pd.read_csv('/proj/gibbons/nbohmann/metabug/manifest/OP/OP_manifest.csv',index_col= 0, header = None)\n",
    "for file_name in manifest_OP.index:\n",
    "    #pull out feature tables with total reads\n",
    "    ab = qiime_to_dataframe(feature_table=\"qiime/\"+file_name+\"_table.qza\",\n",
    "                        taxonomy=\"qiime/\"+file_name+\"_taxonomy.qza\", \n",
    "                        collapse_on=collapse_on) \n",
    "    #merge with metadata\n",
    "    meta = pd.read_csv('metadata/'+file_name+'_metadata.tsv', sep=\"\\t\")\n",
    "    meta.rename(columns={meta.columns[0]: \"sample_id\"}, inplace=True)\n",
    "    ab = pd.merge(ab, meta, on=\"sample_id\")\n",
    "    ab['URT'] = 'OP'\n",
    "    ab['study'] = file_name\n",
    "    #concatenate dataframes together\n",
    "    res = pd.concat([res,ab])\n",
    "res = res.dropna(subset = ['genus']) #filter data \n",
    "res = res[~(res.genus.str.contains('None'))&~(res.genus.str.contains('uncultured'))&\n",
    "          ~(res.genus.str.contains('Chloroplast'))&~(res.family.str.contains('Mitochondria'))]\n",
    "res = clr(filter_taxa(res, min_reads=2, min_prevalence=0.05)) #center-log-ratio transformation and filtering\n",
    "conditions = pd.read_csv('/proj/gibbons/nbohmann/metabug/conditions.csv',index_col = 0,header = None)[1].to_dict()\n",
    "res['disease'] = res['study'].map(conditions)\n",
    "res.head()"
   ]
  },
  {
   "cell_type": "markdown",
   "id": "377fca63-8b97-4438-b43d-37b686391e94",
   "metadata": {},
   "source": [
    "We'll pivot this table, and save it as a QIIME2 artifact. "
   ]
  },
  {
   "cell_type": "code",
   "execution_count": null,
   "id": "7e5e16f8-653b-45b0-8c66-1ef53beba46e",
   "metadata": {
    "tags": []
   },
   "outputs": [],
   "source": [
    "res_pvt = pd.pivot_table(res, index = 'full_taxonomy', \n",
    "                         columns = 'sample_id', values = 'reads').fillna(0)\n",
    "res_pvt = res_pvt.T\n",
    "abundance_artifact = q2.Artifact.import_data(\"FeatureTable[Frequency]\", res_pvt)\n",
    "abundance_artifact.save('/proj/gibbons/nbohmann/metabug/manifest/merged_table.qza')"
   ]
  },
  {
   "cell_type": "markdown",
   "id": "c904ca0b-a62a-4b30-a9df-e6cd13842347",
   "metadata": {},
   "source": [
    "## Metadata\n",
    "We'll also need a merged metadata table, constructed from study specific metadata"
   ]
  },
  {
   "cell_type": "code",
   "execution_count": null,
   "id": "8737e509",
   "metadata": {
    "tags": []
   },
   "outputs": [],
   "source": [
    "meta_list_NP = os.listdir('/proj/gibbons/nbohmann/metabug/manifest/NP/metadata')\n",
    "meta_list_OP = os.listdir('/proj/gibbons/nbohmann/metabug/manifest/OP/metadata')\n",
    "metadata = pd.DataFrame()\n",
    "for file in meta_list_NP: \n",
    "    df = pd.read_csv('/proj/gibbons/nbohmann/metabug/manifest/NP/metadata/'+file, sep = '\\t')\n",
    "    df['study'] = file.split('_')[0]\n",
    "    metadata = pd.concat([metadata, df])\n",
    "for file in meta_list_OP: \n",
    "    df = pd.read_csv('/proj/gibbons/nbohmann/metabug/manifest/OP/metadata'+file, sep = '\\t')\n",
    "    df['study'] = file.split('_')[0]\n",
    "    metadata = pd.concat([metadata, df])\n",
    "metadata = metadata.drop_duplicates(subset = 'id')\n",
    "metadata = metadata[metadata.id.isin(res.sample_id.unique())]\n",
    "metadata.set_index('id', inplace = True)\n",
    "metadata['condition'] = metadata['condition'].str.replace('non-control','control')\n",
    "conditions = pd.read_csv('/proj/gibbons/nbohmann/metabug/conditions.csv',\n",
    "                         index_col = 0,header = None)[1].to_dict()\n",
    "metadata['disease'] = metadata['study'].map(conditions)\n",
    "metadata['URT']  = metadata.index.map(res.set_index('sample_id')['URT'].to_dict())\n",
    "metadata.to_csv('/proj/gibbons/nbohmann/metabug/manifest/merged_metadata.tsv', sep = '\\t')"
   ]
  },
  {
   "cell_type": "markdown",
   "id": "5447133d-4db0-4317-919d-9672439bb6cf",
   "metadata": {},
   "source": [
    "## Rarefy Data\n",
    "First, we need to rarefy our data. We can use the QIIME2 alpha-rarefaction function to visualize rarefaction, then rarefy to an appropriate depth."
   ]
  },
  {
   "cell_type": "code",
   "execution_count": null,
   "id": "8cd833ea-eb10-42e0-9530-47ea9a4d01f3",
   "metadata": {},
   "outputs": [],
   "source": [
    "!qiime diversity alpha-rarefaction \\\n",
    "  --i-table merged_table.qza \\\n",
    "  --p-max-depth 10000 \\\n",
    "  --m-metadata-file merged_metadata.tsv \\\n",
    "  --o-visualization alpha-rarefaction.qzv"
   ]
  },
  {
   "cell_type": "code",
   "execution_count": null,
   "id": "fafd6085-30d2-460a-8412-3c19ecd3d8ad",
   "metadata": {},
   "outputs": [],
   "source": [
    "!qiime feature-table rarefy \\\n",
    "  --i-table merged_table.qza \\\n",
    "  --p-sampling-depth 2000 \\\n",
    "  --o-rarefied-table rarefied_table.qza"
   ]
  },
  {
   "cell_type": "markdown",
   "id": "1461eb70-b384-4d7d-9b10-59336f417f95",
   "metadata": {},
   "source": [
    "## Alpha Diversity\n",
    "\n",
    "Now we'll examine alpha diversity using Shannon entropy, then export the result"
   ]
  },
  {
   "cell_type": "code",
   "execution_count": null,
   "id": "bad9c152",
   "metadata": {
    "tags": []
   },
   "outputs": [],
   "source": [
    "!qiime diversity alpha \\\n",
    "  --i-table rarefied_table.qza \\\n",
    "  --p-metric shannon \\\n",
    "  --o-alpha-diversity shannon.qza"
   ]
  },
  {
   "cell_type": "code",
   "execution_count": null,
   "id": "e02d76bb-0bd1-4099-a9af-21f914a5d530",
   "metadata": {
    "tags": []
   },
   "outputs": [],
   "source": [
    "!qiime tools export \\\n",
    "  --input-path shannon.qza \\\n",
    "  --output-path shannon"
   ]
  },
  {
   "cell_type": "markdown",
   "id": "02c0c5b3-462a-4227-945c-b70d76487479",
   "metadata": {},
   "source": [
    "## Add Metadata \n",
    "Add the metadata to the alpha diversity results"
   ]
  },
  {
   "cell_type": "code",
   "execution_count": null,
   "id": "362728e9-5daf-41fc-92e1-ded7429da884",
   "metadata": {
    "tags": []
   },
   "outputs": [],
   "source": [
    "os.chdir('/proj/gibbons/nbohmann/metabug/manifest/')\n",
    "shannon = pd.read_csv('shannon/alpha-diversity.tsv', sep = '\\t', index_col = 0)\n",
    "shannon.index = shannon.index.rename('id')\n",
    "shannon['region'] = shannon.index.map(metadata['region'].to_dict())\n",
    "shannon['disease'] = shannon.index.map(metadata['disease'].to_dict())\n",
    "shannon['condition'] = shannon.index.map(metadata['condition'].to_dict())\n",
    "shannon['disease-condition'] = shannon['disease']+'-'+shannon['condition']\n",
    "shannon['shannon_entropy'] = shannon['shannon_entropy'].astype('float')\n",
    "shannon['URT'] = shannon.index.map(metadata['URT'].to_dict()).str.replace('NP','Nasopharynx').str.replace('OP','Oropharynx')\n",
    "shannon"
   ]
  },
  {
   "cell_type": "markdown",
   "id": "91d66820-14ae-44a2-aa0c-6df128be4f9f",
   "metadata": {},
   "source": [
    "## Visualize Alpha Diversity"
   ]
  },
  {
   "cell_type": "code",
   "execution_count": null,
   "id": "06cd8bc8-3729-477b-ba95-49f8ab767b3f",
   "metadata": {
    "tags": []
   },
   "outputs": [],
   "source": [
    "shannon_plt = (ggplot(\n",
    "    shannon, aes(x = 'disease-condition', y = 'shannon_entropy'))\n",
    "    +geom_boxplot(aes(fill = 'condition'))\n",
    "    +theme(axis_text_x=element_text(rotation=60, hjust=1))\n",
    "    +scale_fill_manual(values = ['#c3553b','#3e8093'], labels = ['Case','Control'])\n",
    "    +labs(x = 'Disease + Condition', y = 'Shannon Entropy', fill = 'Status')\n",
    "    +theme(text = element_text(size=20),panel_background=element_rect(fill = \"white\",\n",
    "                                colour = \"white\",size = 0.5, linetype = \"solid\"),\n",
    "                                panel_grid=element_line(size = .2, linetype = \"solid\",colour = \"gray\"),\n",
    "                                axis_line = element_line(size = 2, linetype = \"solid\",colour = \"black\"),\n",
    "                                legend_title=element_blank(),\n",
    "                                legend_position='right',\n",
    "                                figure_size=(16, 12)))\n",
    "shannon_plt"
   ]
  },
  {
   "cell_type": "markdown",
   "id": "ba992104-80d0-44c6-ab9e-82b5a4cd6b62",
   "metadata": {},
   "source": [
    "## Beta Diversity\n",
    "Now we'll Look beta diversity among samples, by calculating Bray-Curtis dissimilarity"
   ]
  },
  {
   "cell_type": "code",
   "execution_count": null,
   "id": "5f2fb8b2",
   "metadata": {
    "tags": []
   },
   "outputs": [],
   "source": [
    "!qiime diversity beta \\\n",
    "    --i-table rarefied_table.qza \\\n",
    "    --p-metric braycurtis \\\n",
    "    --o-distance-matrix braycurtis.qza"
   ]
  },
  {
   "cell_type": "code",
   "execution_count": null,
   "id": "a1c7ac98",
   "metadata": {
    "tags": []
   },
   "outputs": [],
   "source": [
    "!qiime tools export \\\n",
    "  --input-path braycurtis.qza \\\n",
    "  --output-path braycurtis"
   ]
  },
  {
   "cell_type": "markdown",
   "id": "4764241c-6c2d-486e-8f8e-fb93bcd78f33",
   "metadata": {},
   "source": [
    "## Calculate PCoA\n",
    "We'll read in our dissimilarity matrix, and conduct a PCoA in SkBio "
   ]
  },
  {
   "cell_type": "code",
   "execution_count": null,
   "id": "50992117",
   "metadata": {
    "tags": []
   },
   "outputs": [],
   "source": [
    "dm = pd.read_csv('/proj/gibbons/nbohmann/metabug/manifest/braycurtis/distance-matrix.tsv', sep = '\\t',index_col = 0)\n",
    "od_res = skbio.stats.ordination.pcoa(dm)\n",
    "od_res.proportion_explained"
   ]
  },
  {
   "cell_type": "markdown",
   "id": "870730bd-740e-467f-8f96-80ae742bf577",
   "metadata": {},
   "source": [
    "## Add Metadata\n",
    "Now we can merge our PCoA results with corresponding metadata, and examine the proportion explained. "
   ]
  },
  {
   "cell_type": "code",
   "execution_count": null,
   "id": "2d5094c0",
   "metadata": {
    "tags": []
   },
   "outputs": [],
   "source": [
    "od_res.samples.index = dm.index\n",
    "metadata = metadata[metadata.index.isin(od_res.samples.index)]\n",
    "od_res.samples['region'] = od_res.samples.index.map(metadata['region'].to_dict())\n",
    "od_res.samples['age'] = od_res.samples.index.map(metadata['age'].to_dict())\n",
    "od_res.samples['sex'] = od_res.samples.index.map(metadata['sex'].to_dict())\n",
    "od_res.samples['URT'] = od_res.samples.index.map(metadata['URT'].to_dict()).str.replace('NP','Nasopharynx').str.replace('OP','Oropharynx')\n",
    "od_res.samples['disease'] = od_res.samples.index.map(metadata['disease'].to_dict())\n",
    "od_res.samples['country'] = od_res.samples.index.map(metadata['country'].to_dict())\n",
    "od_res.samples['condition'] = od_res.samples.index.map(metadata['condition'].to_dict())\n",
    "od_res.proportion_explained"
   ]
  },
  {
   "cell_type": "markdown",
   "id": "369b59d4-9121-4894-b208-11a200af1113",
   "metadata": {},
   "source": [
    "## Plot Beta Diversity"
   ]
  },
  {
   "cell_type": "code",
   "execution_count": null,
   "id": "a5eff973",
   "metadata": {
    "tags": []
   },
   "outputs": [],
   "source": [
    "plt = (ggplot(\n",
    "    od_res.samples, aes(x = 'PC1', y = 'PC2', color = 'URT'))\n",
    "    +geom_point(size = 3)\n",
    "    +labs(x = 'PC1 (20.29%)', y = 'PC2 (10.07%)', color = 'URT Area')\n",
    "    +theme(text = element_text(size=20),panel_background=element_rect(fill = \"white\",\n",
    "                                colour = \"white\",size = 0.5, linetype = \"solid\"),\n",
    "                                panel_grid=element_line(size = .2, linetype = \"solid\",colour = \"gray\"),\n",
    "                                axis_line = element_line(size = 2, linetype = \"solid\",colour = \"black\"),\n",
    "                                legend_position='right',\n",
    "                                figure_size=(8, 6)))\n",
    "plt"
   ]
  },
  {
   "cell_type": "markdown",
   "id": "5dab5030-39a5-4d6f-8ad9-9541d72521b5",
   "metadata": {},
   "source": [
    "## PERMANOVA\n",
    "Use PERMANOVA to calculate significance"
   ]
  },
  {
   "cell_type": "code",
   "execution_count": null,
   "id": "30d5c6fd-da40-4735-955c-903f331a1cf2",
   "metadata": {},
   "outputs": [],
   "source": [
    "import pandas\n",
    "import skbio\n",
    "dm = pd.read_csv('/proj/gibbons/nbohmann/metabug/manifest/braycurtis/distance-matrix.tsv', sep = '\\t',index_col = 0)\n",
    "dm = skbio.stats.distance.DistanceMatrix(dm)\n",
    "metadata_array= np.ascontiguousarray(metadata['URT'].to_list())\n",
    "skbio.stats.distance.permanova(dm, grouping = metadata_array, permutations = 999)"
   ]
  },
  {
   "cell_type": "code",
   "execution_count": null,
   "id": "b89c337d-b3a8-412f-9c6e-7c727bae984f",
   "metadata": {},
   "outputs": [],
   "source": [
    "metadata_array= np.ascontiguousarray(metadata['condition'].to_list())\n",
    "skbio.stats.distance.permanova(dm, grouping = metadata_array, permutations = 999)"
   ]
  },
  {
   "cell_type": "code",
   "execution_count": null,
   "id": "3a8a7be1-c80c-451b-a874-df2b0baf8f91",
   "metadata": {},
   "outputs": [],
   "source": [
    "metadata_array= np.ascontiguousarray(metadata['region'].to_list())\n",
    "skbio.stats.distance.permanova(dm, grouping = metadata_array, permutations = 999)"
   ]
  },
  {
   "cell_type": "code",
   "execution_count": null,
   "id": "29392f4a-79b9-45da-9188-31e08057e4b0",
   "metadata": {
    "tags": []
   },
   "outputs": [],
   "source": [
    "metadata_array= np.ascontiguousarray(metadata['disease'].to_list())\n",
    "skbio.stats.distance.permanova(dm, grouping = metadata_array, permutations = 999)"
   ]
  }
 ],
 "metadata": {
  "kernelspec": {
   "display_name": "Python 3 (ipykernel)",
   "language": "python",
   "name": "python3"
  },
  "language_info": {
   "codemirror_mode": {
    "name": "ipython",
    "version": 3
   },
   "file_extension": ".py",
   "mimetype": "text/x-python",
   "name": "python",
   "nbconvert_exporter": "python",
   "pygments_lexer": "ipython3",
   "version": "3.8.13"
  }
 },
 "nbformat": 4,
 "nbformat_minor": 5
}
